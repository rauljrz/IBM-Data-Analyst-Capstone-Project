{
    "cells": [
        {
            "cell_type": "markdown",
            "metadata": {},
            "source": "<center>\n    <img src=\"https://gitlab.com/ibm/skills-network/courses/placeholder101/-/raw/master/labs/module%201/images/IDSNlogo.png\" width=\"300\" alt=\"cognitiveclass.ai logo\"  />\n</center>\n"
        },
        {
            "cell_type": "markdown",
            "metadata": {},
            "source": "# **Survey Dataset Exploration Lab**\n"
        },
        {
            "cell_type": "markdown",
            "metadata": {},
            "source": "Estimated time needed: **30** minutes\n"
        },
        {
            "cell_type": "markdown",
            "metadata": {},
            "source": "## Objectives\n"
        },
        {
            "cell_type": "markdown",
            "metadata": {},
            "source": "After completing this lab you will be able to:\n"
        },
        {
            "cell_type": "markdown",
            "metadata": {},
            "source": "*   Load the dataset that will used thru the capstone project.\n*   Explore the dataset.\n*   Get familier with the data types.\n"
        },
        {
            "cell_type": "markdown",
            "metadata": {},
            "source": "## Load the dataset\n"
        },
        {
            "cell_type": "markdown",
            "metadata": {},
            "source": "Import the required libraries.\n"
        },
        {
            "cell_type": "code",
            "execution_count": 3,
            "metadata": {},
            "outputs": [],
            "source": "import pandas as pd"
        },
        {
            "cell_type": "markdown",
            "metadata": {},
            "source": "The dataset is available on the IBM Cloud at the below url.\n"
        },
        {
            "cell_type": "code",
            "execution_count": null,
            "metadata": {},
            "outputs": [],
            "source": "dataset_url = \"https://cf-courses-data.s3.us.cloud-object-storage.appdomain.cloud/IBM-DA0321EN-SkillsNetwork/LargeData/m1_survey_data.csv\""
        },
        {
            "cell_type": "markdown",
            "metadata": {},
            "source": "Load the data available at dataset_url into a dataframe.\n"
        },
        {
            "cell_type": "code",
            "execution_count": 4,
            "metadata": {},
            "outputs": [],
            "source": "# your code goes here"
        },
        {
            "cell_type": "markdown",
            "metadata": {},
            "source": "## Explore the data set\n"
        },
        {
            "cell_type": "markdown",
            "metadata": {},
            "source": "It is a good idea to print the top 5 rows of the dataset to get a feel of how the dataset will look.\n"
        },
        {
            "cell_type": "markdown",
            "metadata": {},
            "source": "Display the top 5 rows and columns from your dataset.\n"
        },
        {
            "cell_type": "code",
            "execution_count": 14,
            "metadata": {},
            "outputs": [],
            "source": "# your code goes here"
        },
        {
            "cell_type": "markdown",
            "metadata": {},
            "source": "## Find out the number of rows and columns\n"
        },
        {
            "cell_type": "markdown",
            "metadata": {},
            "source": "Start by exploring the numbers of rows and columns of data in the dataset.\n"
        },
        {
            "cell_type": "markdown",
            "metadata": {},
            "source": "Print the number of rows in the dataset.\n"
        },
        {
            "cell_type": "code",
            "execution_count": 9,
            "metadata": {},
            "outputs": [],
            "source": "# your code goes here"
        },
        {
            "cell_type": "markdown",
            "metadata": {},
            "source": "Print the number of columns in the dataset.\n"
        },
        {
            "cell_type": "code",
            "execution_count": null,
            "metadata": {},
            "outputs": [],
            "source": "# your code goes here"
        },
        {
            "cell_type": "markdown",
            "metadata": {},
            "source": "## Identify the data types of each column\n"
        },
        {
            "cell_type": "markdown",
            "metadata": {},
            "source": "Explore the dataset and identify the data types of each column.\n"
        },
        {
            "cell_type": "markdown",
            "metadata": {},
            "source": "Print the datatype of all columns.\n"
        },
        {
            "cell_type": "code",
            "execution_count": 10,
            "metadata": {},
            "outputs": [],
            "source": "# your code goes here"
        },
        {
            "cell_type": "markdown",
            "metadata": {},
            "source": "Print the mean age of the survey participants.\n"
        },
        {
            "cell_type": "code",
            "execution_count": 8,
            "metadata": {},
            "outputs": [],
            "source": "# your code goes here"
        },
        {
            "cell_type": "markdown",
            "metadata": {},
            "source": "The dataset is the result of a world wide survey. Print how many unique countries are there in the Country column.\n"
        },
        {
            "cell_type": "code",
            "execution_count": null,
            "metadata": {},
            "outputs": [],
            "source": "# your code goes here"
        },
        {
            "cell_type": "markdown",
            "metadata": {},
            "source": "## Authors\n"
        },
        {
            "cell_type": "markdown",
            "metadata": {},
            "source": "Ramesh Sannareddy\n"
        },
        {
            "cell_type": "markdown",
            "metadata": {},
            "source": "### Other Contributors\n"
        },
        {
            "cell_type": "markdown",
            "metadata": {},
            "source": "Rav Ahuja\n"
        },
        {
            "cell_type": "markdown",
            "metadata": {},
            "source": "## Change Log\n"
        },
        {
            "cell_type": "markdown",
            "metadata": {},
            "source": "| Date (YYYY-MM-DD) | Version | Changed By        | Change Description                 |\n| ----------------- | ------- | ----------------- | ---------------------------------- |\n| 2020-10-17        | 0.1     | Ramesh Sannareddy | Created initial version of the lab |\n"
        },
        {
            "cell_type": "markdown",
            "metadata": {},
            "source": "Copyright \u00a9 2020 IBM Corporation. This notebook and its source code are released under the terms of the [MIT License](https://cognitiveclass.ai/mit-license?utm_medium=Exinfluencer&utm_source=Exinfluencer&utm_content=000026UJ&utm_term=10006555&utm_id=NA-SkillsNetwork-Channel-SkillsNetworkCoursesIBMDA0321ENSkillsNetwork21426264-2021-01-01&cm_mmc=Email_Newsletter-\\_-Developer_Ed%2BTech-\\_-WW_WW-\\_-SkillsNetwork-Courses-IBM-DA0321EN-SkillsNetwork-21426264&cm_mmca1=000026UJ&cm_mmca2=10006555&cm_mmca3=M12345678&cvosrc=email.Newsletter.M12345678&cvo_campaign=000026UJ).\n"
        }
    ],
    "metadata": {
        "kernelspec": {
            "display_name": "Python 3.8",
            "language": "python",
            "name": "python3"
        },
        "language_info": {
            "codemirror_mode": {
                "name": "ipython",
                "version": 3
            },
            "file_extension": ".py",
            "mimetype": "text/x-python",
            "name": "python",
            "nbconvert_exporter": "python",
            "pygments_lexer": "ipython3",
            "version": "3.8.12"
        }
    },
    "nbformat": 4,
    "nbformat_minor": 4
}