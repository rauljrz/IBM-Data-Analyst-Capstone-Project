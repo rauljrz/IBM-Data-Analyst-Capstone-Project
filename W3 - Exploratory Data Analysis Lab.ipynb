{
    "cells": [
        {
            "cell_type": "markdown",
            "metadata": {},
            "source": "<center>\n    <img src=\"https://gitlab.com/ibm/skills-network/courses/placeholder101/-/raw/master/labs/module%201/images/IDSNlogo.png\" width=\"300\" alt=\"cognitiveclass.ai logo\"  />\n</center>\n"
        },
        {
            "cell_type": "markdown",
            "metadata": {},
            "source": "# **Exploratory Data Analysis Lab**\n"
        },
        {
            "cell_type": "markdown",
            "metadata": {},
            "source": "Estimated time needed: **30** minutes\n"
        },
        {
            "cell_type": "markdown",
            "metadata": {},
            "source": "In this module you get to work with the cleaned dataset from the previous module.\n\nIn this assignment you will perform the task of exploratory data analysis.\nYou will find out the distribution of data, presence of outliers and also determine the correlation between different columns in the dataset.\n"
        },
        {
            "cell_type": "markdown",
            "metadata": {},
            "source": "## Objectives\n"
        },
        {
            "cell_type": "markdown",
            "metadata": {},
            "source": "In this lab you will perform the following:\n"
        },
        {
            "cell_type": "markdown",
            "metadata": {},
            "source": "*   Identify the distribution of data in the dataset.\n\n*   Identify outliers in the dataset.\n\n*   Remove outliers from the dataset.\n\n*   Identify correlation between features in the dataset.\n"
        },
        {
            "cell_type": "markdown",
            "metadata": {},
            "source": "***\n"
        },
        {
            "cell_type": "markdown",
            "metadata": {},
            "source": "## Hands on Lab\n"
        },
        {
            "cell_type": "markdown",
            "metadata": {},
            "source": "Import the pandas module.\n"
        },
        {
            "cell_type": "code",
            "execution_count": 2,
            "metadata": {},
            "outputs": [],
            "source": "import pandas as pd"
        },
        {
            "cell_type": "markdown",
            "metadata": {},
            "source": "Load the dataset into a dataframe.\n"
        },
        {
            "cell_type": "code",
            "execution_count": 3,
            "metadata": {},
            "outputs": [],
            "source": "df = pd.read_csv(\"https://cf-courses-data.s3.us.cloud-object-storage.appdomain.cloud/IBM-DA0321EN-SkillsNetwork/LargeData/m2_survey_data.csv\")"
        },
        {
            "cell_type": "markdown",
            "metadata": {},
            "source": "## Distribution\n"
        },
        {
            "cell_type": "markdown",
            "metadata": {},
            "source": "### Determine how the data is distributed\n"
        },
        {
            "cell_type": "markdown",
            "metadata": {},
            "source": "The column `ConvertedComp` contains Salary converted to annual USD salaries using the exchange rate on 2019-02-01.\n\nThis assumes 12 working months and 50 working weeks.\n"
        },
        {
            "cell_type": "markdown",
            "metadata": {},
            "source": "Plot the distribution curve for the column `ConvertedComp`.\n"
        },
        {
            "cell_type": "code",
            "execution_count": 6,
            "metadata": {},
            "outputs": [
                {
                    "data": {
                        "text/plain": "<seaborn.axisgrid.FacetGrid at 0x7f0e42811c70>"
                    },
                    "execution_count": 6,
                    "metadata": {},
                    "output_type": "execute_result"
                },
                {
                    "data": {
                        "image/png": "[encoded data removed]",
                        "text/plain": "<Figure size 360x360 with 1 Axes>"
                    },
                    "metadata": {
                        "needs_background": "light"
                    },
                    "output_type": "display_data"
                }
            ],
            "source": "import seaborn as sns\nsns.displot(df['ConvertedComp'], kde = True)"
        },
        {
            "cell_type": "markdown",
            "metadata": {},
            "source": "Plot the histogram for the column `ConvertedComp`.\n"
        },
        {
            "cell_type": "code",
            "execution_count": 7,
            "metadata": {},
            "outputs": [
                {
                    "data": {
                        "text/plain": "(array([9659.,  238.,  115.,  125.,   99.,  131.,   34.,   15.,   15.,\n         151.]),\n array([      0.,  200000.,  400000.,  600000.,  800000., 1000000.,\n        1200000., 1400000., 1600000., 1800000., 2000000.]),\n <BarContainer object of 10 artists>)"
                    },
                    "execution_count": 7,
                    "metadata": {},
                    "output_type": "execute_result"
                },
                {
                    "data": {
                        "image/png": "[encoded data removed]",
                        "text/plain": "<Figure size 432x288 with 1 Axes>"
                    },
                    "metadata": {
                        "needs_background": "light"
                    },
                    "output_type": "display_data"
                }
            ],
            "source": "import matplotlib as mpl\n%matplotlib inline\nimport matplotlib.pyplot as plt\nplt.hist(df['ConvertedComp'])"
        },
        {
            "cell_type": "markdown",
            "metadata": {},
            "source": "What is the median of the column `ConvertedComp`?\n"
        },
        {
            "cell_type": "code",
            "execution_count": 8,
            "metadata": {},
            "outputs": [
                {
                    "name": "stdout",
                    "output_type": "stream",
                    "text": "convertedComp Median:  57745.0\n"
                }
            ],
            "source": "df['ConvertedComp'].dropna(axis=0, inplace=True)\nprint(\"convertedComp Median: \", df['ConvertedComp'].median())"
        },
        {
            "cell_type": "markdown",
            "metadata": {},
            "source": "How many responders identified themselves only as a **Man**?\n"
        },
        {
            "cell_type": "code",
            "execution_count": 10,
            "metadata": {},
            "outputs": [
                {
                    "data": {
                        "text/plain": "10480"
                    },
                    "execution_count": 10,
                    "metadata": {},
                    "output_type": "execute_result"
                }
            ],
            "source": "df['Gender'].value_counts()['Man']"
        },
        {
            "cell_type": "markdown",
            "metadata": {},
            "source": "Find out the  median ConvertedComp of responders identified themselves only as a **Woman**?\n"
        },
        {
            "cell_type": "code",
            "execution_count": 13,
            "metadata": {},
            "outputs": [
                {
                    "name": "stdout",
                    "output_type": "stream",
                    "text": "Woman Median:  57708.0\n"
                }
            ],
            "source": "df_woman = df[df['Gender']=='Woman']\nprint(\"Woman Median: \", df_woman['ConvertedComp'].median())"
        },
        {
            "cell_type": "markdown",
            "metadata": {},
            "source": "Give the five number summary for the column `Age`?\n"
        },
        {
            "cell_type": "markdown",
            "metadata": {},
            "source": "**Double click here for hint**.\n\n<!--\nmin,q1,median,q3,max of a column are its five number summary.\n-->\n"
        },
        {
            "cell_type": "code",
            "execution_count": 15,
            "metadata": {},
            "outputs": [
                {
                    "data": {
                        "text/plain": "count    11111.000000\nmean        30.778895\nstd          7.393686\nmin         16.000000\n25%         25.000000\n50%         29.000000\n75%         35.000000\nmax         99.000000\nName: Age, dtype: float64"
                    },
                    "execution_count": 15,
                    "metadata": {},
                    "output_type": "execute_result"
                }
            ],
            "source": "df['Age'].describe()"
        },
        {
            "cell_type": "markdown",
            "metadata": {},
            "source": "Plot a histogram of the column `Age`.\n"
        },
        {
            "cell_type": "code",
            "execution_count": 16,
            "metadata": {},
            "outputs": [
                {
                    "data": {
                        "text/plain": "(array([2.094e+03, 5.337e+03, 2.557e+03, 8.420e+02, 2.250e+02, 4.900e+01,\n        6.000e+00, 0.000e+00, 0.000e+00, 1.000e+00]),\n array([16. , 24.3, 32.6, 40.9, 49.2, 57.5, 65.8, 74.1, 82.4, 90.7, 99. ]),\n <BarContainer object of 10 artists>)"
                    },
                    "execution_count": 16,
                    "metadata": {},
                    "output_type": "execute_result"
                },
                {
                    "data": {
                        "image/png": "[encoded data removed]",
                        "text/plain": "<Figure size 432x288 with 1 Axes>"
                    },
                    "metadata": {
                        "needs_background": "light"
                    },
                    "output_type": "display_data"
                }
            ],
            "source": "plt.hist(df['Age'])"
        },
        {
            "cell_type": "markdown",
            "metadata": {},
            "source": "## Outliers\n"
        },
        {
            "cell_type": "markdown",
            "metadata": {},
            "source": "### Finding outliers\n"
        },
        {
            "cell_type": "markdown",
            "metadata": {},
            "source": "Find out if outliers exist in the column `ConvertedComp` using a box plot?\n"
        },
        {
            "cell_type": "code",
            "execution_count": 17,
            "metadata": {},
            "outputs": [
                {
                    "data": {
                        "image/png": "[encoded data removed]",
                        "text/plain": "<Figure size 576x432 with 1 Axes>"
                    },
                    "metadata": {
                        "needs_background": "light"
                    },
                    "output_type": "display_data"
                }
            ],
            "source": "df_cv = pd.DataFrame(data=df['ConvertedComp'])\ndf_cv.plot(kind='box', figsize=(8,6))\nplt.show()"
        },
        {
            "cell_type": "markdown",
            "metadata": {},
            "source": "Find out the Inter Quartile Range for the column `ConvertedComp`.\n"
        },
        {
            "cell_type": "code",
            "execution_count": 18,
            "metadata": {},
            "outputs": [
                {
                    "name": "stdout",
                    "output_type": "stream",
                    "text": "The Inter Quartile Range for ConvertedComp:  73132.0\n"
                }
            ],
            "source": "df['ConvertedComp'].dropna(axis=0, inplace=True)\nQ1,Q3 = df['ConvertedComp'].quantile(.25),df['ConvertedComp'].quantile(.75)\nIQR = Q3 - Q1\nprint('The Inter Quartile Range for ConvertedComp: ', IQR)"
        },
        {
            "cell_type": "markdown",
            "metadata": {},
            "source": "Find out the upper and lower bounds.\n"
        },
        {
            "cell_type": "code",
            "execution_count": 20,
            "metadata": {},
            "outputs": [
                {
                    "name": "stdout",
                    "output_type": "stream",
                    "text": "Upper bound:  209698.0\nLower bound:  -82830.0\n"
                }
            ],
            "source": "upper = Q3+(IQR*1.5)\nlower = Q1-(IQR*1.5)\n\nprint('Upper bound: ', upper)\nprint('Lower bound: ', lower)"
        },
        {
            "cell_type": "markdown",
            "metadata": {},
            "source": "Identify how many outliers are there in the `ConvertedComp` column.\n"
        },
        {
            "cell_type": "code",
            "execution_count": 21,
            "metadata": {},
            "outputs": [
                {
                    "data": {
                        "text/plain": "0        False\n1        False\n2        False\n3         True\n4        False\n         ...  \n11393    False\n11394    False\n11395    False\n11396    False\n11397    False\nName: ConvertedComp, Length: 11398, dtype: bool"
                    },
                    "execution_count": 21,
                    "metadata": {},
                    "output_type": "execute_result"
                }
            ],
            "source": "(df['ConvertedComp'] < lower) | (df['ConvertedComp'] > upper)"
        },
        {
            "cell_type": "markdown",
            "metadata": {},
            "source": "Create a new dataframe by removing the outliers from the `ConvertedComp` column.\n"
        },
        {
            "cell_type": "code",
            "execution_count": 22,
            "metadata": {},
            "outputs": [
                {
                    "data": {
                        "text/plain": "count     10582.000000\nmean      72327.661406\nstd       58619.926538\nmin           0.000000\n25%       26868.000000\n50%       57745.000000\n75%      100000.000000\nmax      209698.000000\nName: ConvertedComp, dtype: float64"
                    },
                    "execution_count": 22,
                    "metadata": {},
                    "output_type": "execute_result"
                }
            ],
            "source": "df2 = df['ConvertedComp'].clip(upper, lower)\ndf2.describe()"
        },
        {
            "cell_type": "markdown",
            "metadata": {},
            "source": "## Correlation\n"
        },
        {
            "cell_type": "markdown",
            "metadata": {},
            "source": "### Finding correlation\n"
        },
        {
            "cell_type": "markdown",
            "metadata": {},
            "source": "Find the correlation between `Age` and all other numerical columns.\n"
        },
        {
            "cell_type": "code",
            "execution_count": 24,
            "metadata": {},
            "outputs": [
                {
                    "data": {
                        "text/plain": "Respondent       0.004041\nCompTotal        0.006970\nConvertedComp    0.105386\nWorkWeekHrs      0.036518\nCodeRevHrs      -0.020469\nAge              1.000000\nName: Age, dtype: float64"
                    },
                    "execution_count": 24,
                    "metadata": {},
                    "output_type": "execute_result"
                }
            ],
            "source": "df.corr()['Age']"
        },
        {
            "cell_type": "markdown",
            "metadata": {},
            "source": "## Authors\n"
        },
        {
            "cell_type": "markdown",
            "metadata": {},
            "source": "Ramesh Sannareddy\n"
        },
        {
            "cell_type": "markdown",
            "metadata": {},
            "source": "### Other Contributors\n"
        },
        {
            "cell_type": "markdown",
            "metadata": {},
            "source": "Rav Ahuja"
        },
        {
            "cell_type": "markdown",
            "metadata": {},
            "source": "### User"
        },
        {
            "cell_type": "markdown",
            "metadata": {},
            "source": "Ra\u00fal Ju\u00e1rez - raul.j"
        },
        {
            "cell_type": "markdown",
            "metadata": {},
            "source": "## Change Log\n"
        },
        {
            "cell_type": "markdown",
            "metadata": {},
            "source": "| Date (YYYY-MM-DD) | Version | Changed By        | Change Description                 |\n| ----------------- | ------- | ----------------- | ---------------------------------- |\n| 2020-10-17        | 0.1     | Ramesh Sannareddy | Created initial version of the lab |\n"
        },
        {
            "cell_type": "markdown",
            "metadata": {},
            "source": "Copyright \u00a9 2020 IBM Corporation. This notebook and its source code are released under the terms of the [MIT License](https://cognitiveclass.ai/mit-license?utm_medium=Exinfluencer&utm_source=Exinfluencer&utm_content=000026UJ&utm_term=10006555&utm_id=NA-SkillsNetwork-Channel-SkillsNetworkCoursesIBMDA0321ENSkillsNetwork21426264-2021-01-01&cm_mmc=Email_Newsletter-\\_-Developer_Ed%2BTech-\\_-WW_WW-\\_-SkillsNetwork-Courses-IBM-DA0321EN-SkillsNetwork-21426264&cm_mmca1=000026UJ&cm_mmca2=10006555&cm_mmca3=M12345678&cvosrc=email.Newsletter.M12345678&cvo_campaign=000026UJ).\n"
        }
    ],
    "metadata": {
        "kernelspec": {
            "display_name": "Python 3.8",
            "language": "python",
            "name": "python3"
        },
        "language_info": {
            "codemirror_mode": {
                "name": "ipython",
                "version": 3
            },
            "file_extension": ".py",
            "mimetype": "text/x-python",
            "name": "python",
            "nbconvert_exporter": "python",
            "pygments_lexer": "ipython3",
            "version": "3.8.12"
        }
    },
    "nbformat": 4,
    "nbformat_minor": 4
}